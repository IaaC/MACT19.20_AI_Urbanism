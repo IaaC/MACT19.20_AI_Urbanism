{
  "nbformat": 4,
  "nbformat_minor": 0,
  "metadata": {
    "colab": {
      "name": "Hello World.ipynb",
      "provenance": [],
      "authorship_tag": "ABX9TyPrbNWoCSKn8s2PqENa1HDi",
      "include_colab_link": true
    },
    "kernelspec": {
      "name": "python3",
      "display_name": "Python 3"
    }
  },
  "cells": [
    {
      "cell_type": "markdown",
      "metadata": {
        "id": "view-in-github",
        "colab_type": "text"
      },
      "source": [
        "<a href=\"https://colab.research.google.com/github/diegopajarito/MACT19.20_AI_Urbanism/blob/master/Hello_World.ipynb\" target=\"_parent\"><img src=\"https://colab.research.google.com/assets/colab-badge.svg\" alt=\"Open In Colab\"/></a>"
      ]
    },
    {
      "cell_type": "markdown",
      "metadata": {
        "id": "uJ8_h3tmIwHb",
        "colab_type": "text"
      },
      "source": [
        "![IAAC](https://pbs.twimg.com/profile_images/1105059874826792961/r3HHyWWm_400x400.png)\n",
        "# AI in urbanism\n",
        "## MaCT \n",
        "This is the firtst notebook set to test the colab platform"
      ]
    },
    {
      "cell_type": "code",
      "metadata": {
        "id": "L55CHoMmIuIx",
        "colab_type": "code",
        "colab": {
          "base_uri": "https://localhost:8080/",
          "height": 34
        },
        "outputId": "6b93cc5c-3478-4ece-8a1e-882ba705b454"
      },
      "source": [
        "print(\"Hello World\")"
      ],
      "execution_count": 1,
      "outputs": [
        {
          "output_type": "stream",
          "text": [
            "Hello World\n"
          ],
          "name": "stdout"
        }
      ]
    },
    {
      "cell_type": "markdown",
      "metadata": {
        "id": "6TmAee1EIvmA",
        "colab_type": "text"
      },
      "source": [
        "This first example shows how easy is to execute python commands"
      ]
    },
    {
      "cell_type": "code",
      "metadata": {
        "id": "MNUw3fE4Jswq",
        "colab_type": "code",
        "colab": {
          "base_uri": "https://localhost:8080/",
          "height": 102
        },
        "outputId": "ee08056c-27cd-4f0a-9524-966a43010b06"
      },
      "source": [
        "import pandas as pd\n",
        "data = {'names':  ['Student 1', 'Student 2', 'Student 3', 'Student 4'],\n",
        "        'country': ['Country 1', 'Country 2', 'Country 3', 'Country 4'],\n",
        "        'grades': [5, 5, 5, 5]\n",
        "        }\n",
        "\n",
        "df = pd.DataFrame (data, columns = ['names','country', 'grades'])\n",
        "\n",
        "print(df)"
      ],
      "execution_count": 4,
      "outputs": [
        {
          "output_type": "stream",
          "text": [
            "       names    country  grades\n",
            "0  Student 1  Country 1       5\n",
            "1  Student 2  Country 2       5\n",
            "2  Student 3  Country 3       5\n",
            "3  Student 4  Country 4       5\n"
          ],
          "name": "stdout"
        }
      ]
    },
    {
      "cell_type": "markdown",
      "metadata": {
        "id": "svnGMwXGKfdt",
        "colab_type": "text"
      },
      "source": [
        "This second example shows how to use libraries (i.e., pandas) and store data."
      ]
    }
  ]
}